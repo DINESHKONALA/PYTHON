{
 "cells": [
  {
   "cell_type": "markdown",
   "id": "dd7f67e1",
   "metadata": {},
   "source": [
    "### String Interpolation"
   ]
  },
  {
   "cell_type": "code",
   "execution_count": 1,
   "id": "c78dfe1d",
   "metadata": {},
   "outputs": [
    {
     "name": "stdout",
     "output_type": "stream",
     "text": [
      "Hello, Jill\n",
      "Hello, Jill. How are you?\n"
     ]
    }
   ],
   "source": [
    "name = \"Jill\"\n",
    "\n",
    "interpolation = f\"Hello, {name}\"\n",
    "\n",
    "# result > 'Hello, Jill'\n",
    "\n",
    "greeting_format = \"Hello, {}. How are you?\"\n",
    "\n",
    "formatted = greeting_format.format(name)\n",
    "\n",
    "# result > 'Hello, Jill. How are you?\n",
    "\n",
    "print(interpolation)\n",
    "print(formatted)"
   ]
  },
  {
   "cell_type": "markdown",
   "id": "9d1b0179",
   "metadata": {},
   "source": [
    "### String Utilities"
   ]
  },
  {
   "cell_type": "code",
   "execution_count": 2,
   "id": "9a1a940f",
   "metadata": {},
   "outputs": [
    {
     "data": {
      "text/plain": [
       "'HELLO,WORLD'"
      ]
     },
     "execution_count": 2,
     "metadata": {},
     "output_type": "execute_result"
    }
   ],
   "source": [
    "\"hello,world\".upper()\n",
    "\n",
    "# result > 'HELLO, WORLD'"
   ]
  },
  {
   "cell_type": "code",
   "execution_count": 3,
   "id": "7fbd3eb3",
   "metadata": {},
   "outputs": [
    {
     "data": {
      "text/plain": [
       "'hello, world'"
      ]
     },
     "execution_count": 3,
     "metadata": {},
     "output_type": "execute_result"
    }
   ],
   "source": [
    "\"HELLO, WORLD\".lower()\n",
    "\n",
    "# result > 'HELLO, WORLD'"
   ]
  },
  {
   "cell_type": "code",
   "execution_count": 4,
   "id": "819d257e",
   "metadata": {},
   "outputs": [
    {
     "data": {
      "text/plain": [
       "'Hey, Jill'"
      ]
     },
     "execution_count": 4,
     "metadata": {},
     "output_type": "execute_result"
    }
   ],
   "source": [
    "\"Hello, Jill\".replace(\"Hello\", \"Hey\")\n",
    "\n",
    "# result > 'Hey, Jill'"
   ]
  },
  {
   "cell_type": "markdown",
   "id": "cae64b19",
   "metadata": {},
   "source": [
    "### List Slices"
   ]
  },
  {
   "cell_type": "code",
   "execution_count": 5,
   "id": "c999b508",
   "metadata": {},
   "outputs": [],
   "source": [
    "NAMES = [\"John\", \"Paul\", \"George\", \"Ringo\"]\n",
    "AGES = [20, 21, 22, 23]"
   ]
  },
  {
   "cell_type": "code",
   "execution_count": 6,
   "id": "29f4ef83",
   "metadata": {},
   "outputs": [
    {
     "data": {
      "text/plain": [
       "'John'"
      ]
     },
     "execution_count": 6,
     "metadata": {},
     "output_type": "execute_result"
    }
   ],
   "source": [
    "NAMES[0]\n",
    "# result > 'John'"
   ]
  },
  {
   "cell_type": "code",
   "execution_count": 7,
   "id": "34f25c06",
   "metadata": {},
   "outputs": [
    {
     "data": {
      "text/plain": [
       "'Paul'"
      ]
     },
     "execution_count": 7,
     "metadata": {},
     "output_type": "execute_result"
    }
   ],
   "source": [
    "NAMES[1]\n",
    "# result > 'Paul'"
   ]
  },
  {
   "cell_type": "code",
   "execution_count": 8,
   "id": "c13c4ec8",
   "metadata": {},
   "outputs": [
    {
     "data": {
      "text/plain": [
       "['John', 'Paul']"
      ]
     },
     "execution_count": 8,
     "metadata": {},
     "output_type": "execute_result"
    }
   ],
   "source": [
    "NAMES[:2]\n",
    "# result > ['John', 'Paul']"
   ]
  },
  {
   "cell_type": "code",
   "execution_count": 9,
   "id": "628b9306",
   "metadata": {},
   "outputs": [
    {
     "data": {
      "text/plain": [
       "['George', 'Ringo']"
      ]
     },
     "execution_count": 9,
     "metadata": {},
     "output_type": "execute_result"
    }
   ],
   "source": [
    "NAMES[2:]\n",
    "# result > ['George', 'Ringo']"
   ]
  },
  {
   "cell_type": "code",
   "execution_count": 10,
   "id": "7b4e2eae",
   "metadata": {},
   "outputs": [
    {
     "data": {
      "text/plain": [
       "['Ringo', 'George', 'Paul', 'John']"
      ]
     },
     "execution_count": 10,
     "metadata": {},
     "output_type": "execute_result"
    }
   ],
   "source": [
    "NAMES[::-1]\n",
    "# result > ['Ringo', 'George', 'Paul', 'John']"
   ]
  },
  {
   "cell_type": "code",
   "execution_count": 11,
   "id": "98595790",
   "metadata": {},
   "outputs": [
    {
     "data": {
      "text/plain": [
       "['John', 'George']"
      ]
     },
     "execution_count": 11,
     "metadata": {},
     "output_type": "execute_result"
    }
   ],
   "source": [
    "NAMES[::2]\n",
    "# result > ['John', 'George']"
   ]
  },
  {
   "cell_type": "markdown",
   "id": "29dae628",
   "metadata": {},
   "source": [
    "### List Utilities"
   ]
  },
  {
   "cell_type": "code",
   "execution_count": 12,
   "id": "0ec284a4",
   "metadata": {},
   "outputs": [
    {
     "data": {
      "text/plain": [
       "86"
      ]
     },
     "execution_count": 12,
     "metadata": {},
     "output_type": "execute_result"
    }
   ],
   "source": [
    "sum(AGES)\n",
    "# result > 86"
   ]
  },
  {
   "cell_type": "code",
   "execution_count": 13,
   "id": "6f56256b",
   "metadata": {},
   "outputs": [
    {
     "data": {
      "text/plain": [
       "20"
      ]
     },
     "execution_count": 13,
     "metadata": {},
     "output_type": "execute_result"
    }
   ],
   "source": [
    "min(AGES)\n",
    "# result > 20"
   ]
  },
  {
   "cell_type": "code",
   "execution_count": 14,
   "id": "354091f9",
   "metadata": {},
   "outputs": [
    {
     "data": {
      "text/plain": [
       "23"
      ]
     },
     "execution_count": 14,
     "metadata": {},
     "output_type": "execute_result"
    }
   ],
   "source": [
    "max(AGES)\n",
    "# result > 23"
   ]
  },
  {
   "cell_type": "markdown",
   "id": "f65b7666",
   "metadata": {},
   "source": [
    "### Iteration Utilities"
   ]
  },
  {
   "cell_type": "code",
   "execution_count": 15,
   "id": "90cf073b",
   "metadata": {},
   "outputs": [
    {
     "name": "stdout",
     "output_type": "stream",
     "text": [
      "John\n",
      "Paul\n",
      "George\n",
      "Ringo\n"
     ]
    }
   ],
   "source": [
    "# Looping through each name in NAMES\n",
    "for name in NAMES:\n",
    "    print(name)\n",
    "# result > 'John', 'Paul', 'George', 'Ringo'"
   ]
  },
  {
   "cell_type": "code",
   "execution_count": 16,
   "id": "23e9ee0a",
   "metadata": {},
   "outputs": [
    {
     "name": "stdout",
     "output_type": "stream",
     "text": [
      "John 20\n",
      "Paul 21\n",
      "George 22\n",
      "Ringo 23\n"
     ]
    }
   ],
   "source": [
    "# Looping through each name and age using zip\n",
    "for name, age in zip(NAMES, AGES):\n",
    "    print(f\"{name} {age}\")\n",
    "# result > 'John 20', 'Paul 21', 'George 22', 'Ringo 23'"
   ]
  },
  {
   "cell_type": "code",
   "execution_count": 17,
   "id": "2e970e4a",
   "metadata": {},
   "outputs": [
    {
     "name": "stdout",
     "output_type": "stream",
     "text": [
      "Ringo\n",
      "George\n",
      "Paul\n",
      "John\n"
     ]
    }
   ],
   "source": [
    "# Looping through NAMES in reverse order\n",
    "for name in reversed(NAMES):\n",
    "    print(name)\n",
    "# result > 'Ringo', 'George', 'Paul', 'John'"
   ]
  },
  {
   "cell_type": "code",
   "execution_count": 18,
   "id": "a764eb48",
   "metadata": {},
   "outputs": [
    {
     "name": "stdout",
     "output_type": "stream",
     "text": [
      "0\n",
      "1\n",
      "2\n",
      "3\n",
      "4\n"
     ]
    }
   ],
   "source": [
    "# Using range to print numbers 0 through 4\n",
    "for i in range(5):\n",
    "    print(i)\n",
    "# result > 0, 1, 2, 3, 4"
   ]
  },
  {
   "cell_type": "code",
   "execution_count": 19,
   "id": "6a92744f",
   "metadata": {},
   "outputs": [
    {
     "name": "stdout",
     "output_type": "stream",
     "text": [
      "0 John\n",
      "1 Paul\n",
      "2 George\n",
      "3 Ringo\n"
     ]
    }
   ],
   "source": [
    "# Using enumerate to get index and name from NAMES\n",
    "for i, name in enumerate(NAMES):\n",
    "    print(f\"{i} {name}\")\n",
    "# result > '0 John', '1 Paul', '2 George', '3 Ringo'"
   ]
  }
 ],
 "metadata": {
  "kernelspec": {
   "display_name": "Python 3",
   "language": "python",
   "name": "python3"
  },
  "language_info": {
   "codemirror_mode": {
    "name": "ipython",
    "version": 3
   },
   "file_extension": ".py",
   "mimetype": "text/x-python",
   "name": "python",
   "nbconvert_exporter": "python",
   "pygments_lexer": "ipython3",
   "version": "3.13.3"
  }
 },
 "nbformat": 4,
 "nbformat_minor": 5
}

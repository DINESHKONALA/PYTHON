{
 "cells": [
  {
   "cell_type": "code",
   "execution_count": null,
   "id": "094cb089",
   "metadata": {},
   "outputs": [],
   "source": [
    "import pandas as pd \n",
    "import matplotlib"
   ]
  },
  {
   "cell_type": "code",
   "execution_count": 2,
   "id": "8bcda468",
   "metadata": {},
   "outputs": [
    {
     "data": {
      "text/html": [
       "<div>\n",
       "<style scoped>\n",
       "    .dataframe tbody tr th:only-of-type {\n",
       "        vertical-align: middle;\n",
       "    }\n",
       "\n",
       "    .dataframe tbody tr th {\n",
       "        vertical-align: top;\n",
       "    }\n",
       "\n",
       "    .dataframe thead th {\n",
       "        text-align: right;\n",
       "    }\n",
       "</style>\n",
       "<table border=\"1\" class=\"dataframe\">\n",
       "  <thead>\n",
       "    <tr style=\"text-align: right;\">\n",
       "      <th></th>\n",
       "      <th>show_id</th>\n",
       "      <th>type</th>\n",
       "      <th>title</th>\n",
       "      <th>director</th>\n",
       "      <th>cast</th>\n",
       "      <th>country</th>\n",
       "      <th>date_added</th>\n",
       "      <th>release_year</th>\n",
       "      <th>rating</th>\n",
       "      <th>duration</th>\n",
       "      <th>listed_in</th>\n",
       "      <th>description</th>\n",
       "    </tr>\n",
       "  </thead>\n",
       "  <tbody>\n",
       "    <tr>\n",
       "      <th>0</th>\n",
       "      <td>s1</td>\n",
       "      <td>Movie</td>\n",
       "      <td>Dick Johnson Is Dead</td>\n",
       "      <td>Kirsten Johnson</td>\n",
       "      <td>NaN</td>\n",
       "      <td>United States</td>\n",
       "      <td>September 25, 2021</td>\n",
       "      <td>2020</td>\n",
       "      <td>PG-13</td>\n",
       "      <td>90 min</td>\n",
       "      <td>Documentaries</td>\n",
       "      <td>As her father nears the end of his life, filmm...</td>\n",
       "    </tr>\n",
       "    <tr>\n",
       "      <th>1</th>\n",
       "      <td>s2</td>\n",
       "      <td>TV Show</td>\n",
       "      <td>Blood &amp; Water</td>\n",
       "      <td>NaN</td>\n",
       "      <td>Ama Qamata, Khosi Ngema, Gail Mabalane, Thaban...</td>\n",
       "      <td>South Africa</td>\n",
       "      <td>September 24, 2021</td>\n",
       "      <td>2021</td>\n",
       "      <td>TV-MA</td>\n",
       "      <td>2 Seasons</td>\n",
       "      <td>International TV Shows, TV Dramas, TV Mysteries</td>\n",
       "      <td>After crossing paths at a party, a Cape Town t...</td>\n",
       "    </tr>\n",
       "    <tr>\n",
       "      <th>2</th>\n",
       "      <td>s3</td>\n",
       "      <td>TV Show</td>\n",
       "      <td>Ganglands</td>\n",
       "      <td>Julien Leclercq</td>\n",
       "      <td>Sami Bouajila, Tracy Gotoas, Samuel Jouy, Nabi...</td>\n",
       "      <td>NaN</td>\n",
       "      <td>September 24, 2021</td>\n",
       "      <td>2021</td>\n",
       "      <td>TV-MA</td>\n",
       "      <td>1 Season</td>\n",
       "      <td>Crime TV Shows, International TV Shows, TV Act...</td>\n",
       "      <td>To protect his family from a powerful drug lor...</td>\n",
       "    </tr>\n",
       "    <tr>\n",
       "      <th>3</th>\n",
       "      <td>s4</td>\n",
       "      <td>TV Show</td>\n",
       "      <td>Jailbirds New Orleans</td>\n",
       "      <td>NaN</td>\n",
       "      <td>NaN</td>\n",
       "      <td>NaN</td>\n",
       "      <td>September 24, 2021</td>\n",
       "      <td>2021</td>\n",
       "      <td>TV-MA</td>\n",
       "      <td>1 Season</td>\n",
       "      <td>Docuseries, Reality TV</td>\n",
       "      <td>Feuds, flirtations and toilet talk go down amo...</td>\n",
       "    </tr>\n",
       "    <tr>\n",
       "      <th>4</th>\n",
       "      <td>s5</td>\n",
       "      <td>TV Show</td>\n",
       "      <td>Kota Factory</td>\n",
       "      <td>NaN</td>\n",
       "      <td>Mayur More, Jitendra Kumar, Ranjan Raj, Alam K...</td>\n",
       "      <td>India</td>\n",
       "      <td>September 24, 2021</td>\n",
       "      <td>2021</td>\n",
       "      <td>TV-MA</td>\n",
       "      <td>2 Seasons</td>\n",
       "      <td>International TV Shows, Romantic TV Shows, TV ...</td>\n",
       "      <td>In a city of coaching centers known to train I...</td>\n",
       "    </tr>\n",
       "    <tr>\n",
       "      <th>...</th>\n",
       "      <td>...</td>\n",
       "      <td>...</td>\n",
       "      <td>...</td>\n",
       "      <td>...</td>\n",
       "      <td>...</td>\n",
       "      <td>...</td>\n",
       "      <td>...</td>\n",
       "      <td>...</td>\n",
       "      <td>...</td>\n",
       "      <td>...</td>\n",
       "      <td>...</td>\n",
       "      <td>...</td>\n",
       "    </tr>\n",
       "    <tr>\n",
       "      <th>8802</th>\n",
       "      <td>s8803</td>\n",
       "      <td>Movie</td>\n",
       "      <td>Zodiac</td>\n",
       "      <td>David Fincher</td>\n",
       "      <td>Mark Ruffalo, Jake Gyllenhaal, Robert Downey J...</td>\n",
       "      <td>United States</td>\n",
       "      <td>November 20, 2019</td>\n",
       "      <td>2007</td>\n",
       "      <td>R</td>\n",
       "      <td>158 min</td>\n",
       "      <td>Cult Movies, Dramas, Thrillers</td>\n",
       "      <td>A political cartoonist, a crime reporter and a...</td>\n",
       "    </tr>\n",
       "    <tr>\n",
       "      <th>8803</th>\n",
       "      <td>s8804</td>\n",
       "      <td>TV Show</td>\n",
       "      <td>Zombie Dumb</td>\n",
       "      <td>NaN</td>\n",
       "      <td>NaN</td>\n",
       "      <td>NaN</td>\n",
       "      <td>July 1, 2019</td>\n",
       "      <td>2018</td>\n",
       "      <td>TV-Y7</td>\n",
       "      <td>2 Seasons</td>\n",
       "      <td>Kids' TV, Korean TV Shows, TV Comedies</td>\n",
       "      <td>While living alone in a spooky town, a young g...</td>\n",
       "    </tr>\n",
       "    <tr>\n",
       "      <th>8804</th>\n",
       "      <td>s8805</td>\n",
       "      <td>Movie</td>\n",
       "      <td>Zombieland</td>\n",
       "      <td>Ruben Fleischer</td>\n",
       "      <td>Jesse Eisenberg, Woody Harrelson, Emma Stone, ...</td>\n",
       "      <td>United States</td>\n",
       "      <td>November 1, 2019</td>\n",
       "      <td>2009</td>\n",
       "      <td>R</td>\n",
       "      <td>88 min</td>\n",
       "      <td>Comedies, Horror Movies</td>\n",
       "      <td>Looking to survive in a world taken over by zo...</td>\n",
       "    </tr>\n",
       "    <tr>\n",
       "      <th>8805</th>\n",
       "      <td>s8806</td>\n",
       "      <td>Movie</td>\n",
       "      <td>Zoom</td>\n",
       "      <td>Peter Hewitt</td>\n",
       "      <td>Tim Allen, Courteney Cox, Chevy Chase, Kate Ma...</td>\n",
       "      <td>United States</td>\n",
       "      <td>January 11, 2020</td>\n",
       "      <td>2006</td>\n",
       "      <td>PG</td>\n",
       "      <td>88 min</td>\n",
       "      <td>Children &amp; Family Movies, Comedies</td>\n",
       "      <td>Dragged from civilian life, a former superhero...</td>\n",
       "    </tr>\n",
       "    <tr>\n",
       "      <th>8806</th>\n",
       "      <td>s8807</td>\n",
       "      <td>Movie</td>\n",
       "      <td>Zubaan</td>\n",
       "      <td>Mozez Singh</td>\n",
       "      <td>Vicky Kaushal, Sarah-Jane Dias, Raaghav Chanan...</td>\n",
       "      <td>India</td>\n",
       "      <td>March 2, 2019</td>\n",
       "      <td>2015</td>\n",
       "      <td>TV-14</td>\n",
       "      <td>111 min</td>\n",
       "      <td>Dramas, International Movies, Music &amp; Musicals</td>\n",
       "      <td>A scrappy but poor boy worms his way into a ty...</td>\n",
       "    </tr>\n",
       "  </tbody>\n",
       "</table>\n",
       "<p>8807 rows × 12 columns</p>\n",
       "</div>"
      ],
      "text/plain": [
       "     show_id     type                  title         director  \\\n",
       "0         s1    Movie   Dick Johnson Is Dead  Kirsten Johnson   \n",
       "1         s2  TV Show          Blood & Water              NaN   \n",
       "2         s3  TV Show              Ganglands  Julien Leclercq   \n",
       "3         s4  TV Show  Jailbirds New Orleans              NaN   \n",
       "4         s5  TV Show           Kota Factory              NaN   \n",
       "...      ...      ...                    ...              ...   \n",
       "8802   s8803    Movie                 Zodiac    David Fincher   \n",
       "8803   s8804  TV Show            Zombie Dumb              NaN   \n",
       "8804   s8805    Movie             Zombieland  Ruben Fleischer   \n",
       "8805   s8806    Movie                   Zoom     Peter Hewitt   \n",
       "8806   s8807    Movie                 Zubaan      Mozez Singh   \n",
       "\n",
       "                                                   cast        country  \\\n",
       "0                                                   NaN  United States   \n",
       "1     Ama Qamata, Khosi Ngema, Gail Mabalane, Thaban...   South Africa   \n",
       "2     Sami Bouajila, Tracy Gotoas, Samuel Jouy, Nabi...            NaN   \n",
       "3                                                   NaN            NaN   \n",
       "4     Mayur More, Jitendra Kumar, Ranjan Raj, Alam K...          India   \n",
       "...                                                 ...            ...   \n",
       "8802  Mark Ruffalo, Jake Gyllenhaal, Robert Downey J...  United States   \n",
       "8803                                                NaN            NaN   \n",
       "8804  Jesse Eisenberg, Woody Harrelson, Emma Stone, ...  United States   \n",
       "8805  Tim Allen, Courteney Cox, Chevy Chase, Kate Ma...  United States   \n",
       "8806  Vicky Kaushal, Sarah-Jane Dias, Raaghav Chanan...          India   \n",
       "\n",
       "              date_added  release_year rating   duration  \\\n",
       "0     September 25, 2021          2020  PG-13     90 min   \n",
       "1     September 24, 2021          2021  TV-MA  2 Seasons   \n",
       "2     September 24, 2021          2021  TV-MA   1 Season   \n",
       "3     September 24, 2021          2021  TV-MA   1 Season   \n",
       "4     September 24, 2021          2021  TV-MA  2 Seasons   \n",
       "...                  ...           ...    ...        ...   \n",
       "8802   November 20, 2019          2007      R    158 min   \n",
       "8803        July 1, 2019          2018  TV-Y7  2 Seasons   \n",
       "8804    November 1, 2019          2009      R     88 min   \n",
       "8805    January 11, 2020          2006     PG     88 min   \n",
       "8806       March 2, 2019          2015  TV-14    111 min   \n",
       "\n",
       "                                              listed_in  \\\n",
       "0                                         Documentaries   \n",
       "1       International TV Shows, TV Dramas, TV Mysteries   \n",
       "2     Crime TV Shows, International TV Shows, TV Act...   \n",
       "3                                Docuseries, Reality TV   \n",
       "4     International TV Shows, Romantic TV Shows, TV ...   \n",
       "...                                                 ...   \n",
       "8802                     Cult Movies, Dramas, Thrillers   \n",
       "8803             Kids' TV, Korean TV Shows, TV Comedies   \n",
       "8804                            Comedies, Horror Movies   \n",
       "8805                 Children & Family Movies, Comedies   \n",
       "8806     Dramas, International Movies, Music & Musicals   \n",
       "\n",
       "                                            description  \n",
       "0     As her father nears the end of his life, filmm...  \n",
       "1     After crossing paths at a party, a Cape Town t...  \n",
       "2     To protect his family from a powerful drug lor...  \n",
       "3     Feuds, flirtations and toilet talk go down amo...  \n",
       "4     In a city of coaching centers known to train I...  \n",
       "...                                                 ...  \n",
       "8802  A political cartoonist, a crime reporter and a...  \n",
       "8803  While living alone in a spooky town, a young g...  \n",
       "8804  Looking to survive in a world taken over by zo...  \n",
       "8805  Dragged from civilian life, a former superhero...  \n",
       "8806  A scrappy but poor boy worms his way into a ty...  \n",
       "\n",
       "[8807 rows x 12 columns]"
      ]
     },
     "execution_count": 2,
     "metadata": {},
     "output_type": "execute_result"
    }
   ],
   "source": [
    "nds = pd.read_csv('Data_Set/netflix_titles.csv')\n",
    "nds"
   ]
  },
  {
   "cell_type": "code",
   "execution_count": 3,
   "id": "0a5595ca",
   "metadata": {},
   "outputs": [
    {
     "data": {
      "text/plain": [
       "(8807, 12)"
      ]
     },
     "execution_count": 3,
     "metadata": {},
     "output_type": "execute_result"
    }
   ],
   "source": [
    "nds.shape # this will give us the number of rows and columns in the dataset"
   ]
  },
  {
   "cell_type": "code",
   "execution_count": 4,
   "id": "931fa3ef",
   "metadata": {},
   "outputs": [
    {
     "name": "stdout",
     "output_type": "stream",
     "text": [
      "<class 'pandas.core.frame.DataFrame'>\n",
      "RangeIndex: 8807 entries, 0 to 8806\n",
      "Data columns (total 12 columns):\n",
      " #   Column        Non-Null Count  Dtype \n",
      "---  ------        --------------  ----- \n",
      " 0   show_id       8807 non-null   object\n",
      " 1   type          8807 non-null   object\n",
      " 2   title         8807 non-null   object\n",
      " 3   director      6173 non-null   object\n",
      " 4   cast          7982 non-null   object\n",
      " 5   country       7976 non-null   object\n",
      " 6   date_added    8797 non-null   object\n",
      " 7   release_year  8807 non-null   int64 \n",
      " 8   rating        8803 non-null   object\n",
      " 9   duration      8804 non-null   object\n",
      " 10  listed_in     8807 non-null   object\n",
      " 11  description   8807 non-null   object\n",
      "dtypes: int64(1), object(11)\n",
      "memory usage: 825.8+ KB\n"
     ]
    }
   ],
   "source": [
    "nds.info()"
   ]
  },
  {
   "cell_type": "code",
   "execution_count": 5,
   "id": "ef34d671",
   "metadata": {},
   "outputs": [
    {
     "data": {
      "text/plain": [
       "show_id            0\n",
       "type               0\n",
       "title              0\n",
       "director        2634\n",
       "cast             825\n",
       "country          831\n",
       "date_added        10\n",
       "release_year       0\n",
       "rating             4\n",
       "duration           3\n",
       "listed_in          0\n",
       "description        0\n",
       "dtype: int64"
      ]
     },
     "execution_count": 5,
     "metadata": {},
     "output_type": "execute_result"
    }
   ],
   "source": [
    "nds.isna().sum() # this will give us the number of missing values in each column in the DataFrame."
   ]
  },
  {
   "cell_type": "code",
   "execution_count": 6,
   "id": "6bc6353d",
   "metadata": {},
   "outputs": [
    {
     "data": {
      "text/plain": [
       "np.int64(4307)"
      ]
     },
     "execution_count": 6,
     "metadata": {},
     "output_type": "execute_result"
    }
   ],
   "source": [
    "# get total number of missing rows in the DataFrame\n",
    "nds.isna().sum().sum() # this will give us the total number of missing values in the DataFrame."
   ]
  },
  {
   "cell_type": "code",
   "execution_count": 7,
   "id": "14952734",
   "metadata": {},
   "outputs": [
    {
     "data": {
      "text/plain": [
       "np.float64(48.904280685818094)"
      ]
     },
     "execution_count": 7,
     "metadata": {},
     "output_type": "execute_result"
    }
   ],
   "source": [
    "(nds.isna().sum().sum() / nds.shape[0]) * 100 # this will give us the percentage of missing values in the DataFrame."
   ]
  },
  {
   "cell_type": "code",
   "execution_count": 8,
   "id": "532fb041",
   "metadata": {},
   "outputs": [],
   "source": [
    "nds = nds.dropna() # this will drop all the rows with missing values in the DataFrame."
   ]
  },
  {
   "cell_type": "code",
   "execution_count": 9,
   "id": "2520176f",
   "metadata": {},
   "outputs": [
    {
     "data": {
      "text/plain": [
       "(5332, 12)"
      ]
     },
     "execution_count": 9,
     "metadata": {},
     "output_type": "execute_result"
    }
   ],
   "source": [
    "# to comform shape after dropping missing rows\n",
    "nds.shape # this will give us the number of rows and columns in the dataset after dropping missing values"
   ]
  },
  {
   "cell_type": "code",
   "execution_count": 10,
   "id": "4931de65",
   "metadata": {},
   "outputs": [
    {
     "data": {
      "text/plain": [
       "show_id         0\n",
       "type            0\n",
       "title           0\n",
       "director        0\n",
       "cast            0\n",
       "country         0\n",
       "date_added      0\n",
       "release_year    0\n",
       "rating          0\n",
       "duration        0\n",
       "listed_in       0\n",
       "description     0\n",
       "dtype: int64"
      ]
     },
     "execution_count": 10,
     "metadata": {},
     "output_type": "execute_result"
    }
   ],
   "source": [
    "nds.isna().sum() # this will give us the number of missing values in each column in the DataFrame after dropping missing values."
   ]
  },
  {
   "cell_type": "code",
   "execution_count": 11,
   "id": "7a6ac0d0",
   "metadata": {},
   "outputs": [
    {
     "data": {
      "text/plain": [
       "7       False\n",
       "8       False\n",
       "9       False\n",
       "12      False\n",
       "24      False\n",
       "        ...  \n",
       "8801    False\n",
       "8802    False\n",
       "8804    False\n",
       "8805    False\n",
       "8806    False\n",
       "Length: 5332, dtype: bool"
      ]
     },
     "execution_count": 11,
     "metadata": {},
     "output_type": "execute_result"
    }
   ],
   "source": [
    "nds.duplicated() # this will give us a boolean Series indicating whether each row is a duplicate or not"
   ]
  },
  {
   "cell_type": "code",
   "execution_count": 12,
   "id": "03e83c31",
   "metadata": {},
   "outputs": [
    {
     "data": {
      "text/plain": [
       "np.int64(0)"
      ]
     },
     "execution_count": 12,
     "metadata": {},
     "output_type": "execute_result"
    }
   ],
   "source": [
    "nds.duplicated().sum() # this will give us the number of duplicate rows in the DataFrame.\n",
    "\n",
    "# in case we want to drop the duplicate rows, we can use the following code:\n",
    "# nds.drop_duplicates(inplace=True) # this will drop all the duplicate rows in the DataFrame\n"
   ]
  },
  {
   "cell_type": "code",
   "execution_count": 13,
   "id": "1f794351",
   "metadata": {},
   "outputs": [
    {
     "data": {
      "text/plain": [
       "dtype('O')"
      ]
     },
     "execution_count": 13,
     "metadata": {},
     "output_type": "execute_result"
    }
   ],
   "source": [
    "nds['date_added'].dtype # this will give us the data type of the 'date_added' column in the DataFrame.\n"
   ]
  },
  {
   "cell_type": "code",
   "execution_count": 14,
   "id": "a017fa01",
   "metadata": {},
   "outputs": [
    {
     "data": {
      "text/plain": [
       "str"
      ]
     },
     "execution_count": 14,
     "metadata": {},
     "output_type": "execute_result"
    }
   ],
   "source": [
    "type(nds['date_added'].iloc[0]) # this will give us the data type of the first element in the 'date_added' column in the DataFrame."
   ]
  },
  {
   "cell_type": "code",
   "execution_count": 15,
   "id": "c7fe3dc6",
   "metadata": {},
   "outputs": [
    {
     "name": "stderr",
     "output_type": "stream",
     "text": [
      "C:\\Users\\dines\\AppData\\Local\\Temp\\ipykernel_20176\\1565968941.py:1: SettingWithCopyWarning: \n",
      "A value is trying to be set on a copy of a slice from a DataFrame.\n",
      "Try using .loc[row_indexer,col_indexer] = value instead\n",
      "\n",
      "See the caveats in the documentation: https://pandas.pydata.org/pandas-docs/stable/user_guide/indexing.html#returning-a-view-versus-a-copy\n",
      "  nds['date_added'] = pd.to_datetime(nds['date_added'], errors='coerce') # this will convert the 'date_added' column to datetime format, and set errors='coerce' to handle any invalid dates by converting them to NaT (Not a Time)\n"
     ]
    }
   ],
   "source": [
    "nds['date_added'] = pd.to_datetime(nds['date_added'], errors='coerce') # this will convert the 'date_added' column to datetime format, and set errors='coerce' to handle any invalid dates by converting them to NaT (Not a Time)"
   ]
  },
  {
   "cell_type": "code",
   "execution_count": 16,
   "id": "3a4a12eb",
   "metadata": {},
   "outputs": [
    {
     "data": {
      "text/plain": [
       "7      2021-09-24\n",
       "8      2021-09-24\n",
       "9      2021-09-24\n",
       "12     2021-09-23\n",
       "24     2021-09-21\n",
       "          ...    \n",
       "8801   2016-03-09\n",
       "8802   2019-11-20\n",
       "8804   2019-11-01\n",
       "8805   2020-01-11\n",
       "8806   2019-03-02\n",
       "Name: date_added, Length: 5332, dtype: datetime64[ns]"
      ]
     },
     "execution_count": 16,
     "metadata": {},
     "output_type": "execute_result"
    }
   ],
   "source": [
    "nds['date_added'] # this will give us the 'date_added' column in the DataFrame after converting it to datetime format."
   ]
  },
  {
   "cell_type": "code",
   "execution_count": 17,
   "id": "9a5f5eb7",
   "metadata": {},
   "outputs": [
    {
     "data": {
      "text/plain": [
       "np.int64(4)"
      ]
     },
     "execution_count": 17,
     "metadata": {},
     "output_type": "execute_result"
    }
   ],
   "source": [
    "nds['date_added'].isna().sum() # this will give us the number of missing values in the 'date_added' column after converting it to datetime format."
   ]
  },
  {
   "cell_type": "code",
   "execution_count": 18,
   "id": "9b1b2183",
   "metadata": {},
   "outputs": [
    {
     "data": {
      "text/plain": [
       "show_id         0\n",
       "type            0\n",
       "title           0\n",
       "director        0\n",
       "cast            0\n",
       "country         0\n",
       "date_added      4\n",
       "release_year    0\n",
       "rating          0\n",
       "duration        0\n",
       "listed_in       0\n",
       "description     0\n",
       "dtype: int64"
      ]
     },
     "execution_count": 18,
     "metadata": {},
     "output_type": "execute_result"
    }
   ],
   "source": [
    "nds.isna().sum()"
   ]
  },
  {
   "cell_type": "code",
   "execution_count": 19,
   "id": "fe7a5b4d",
   "metadata": {},
   "outputs": [
    {
     "data": {
      "text/plain": [
       "dtype('int64')"
      ]
     },
     "execution_count": 19,
     "metadata": {},
     "output_type": "execute_result"
    }
   ],
   "source": [
    "nds['release_year'].dtype # this will give us the data type of the 'release_year' column in the DataFrame."
   ]
  }
 ],
 "metadata": {
  "kernelspec": {
   "display_name": "Python 3",
   "language": "python",
   "name": "python3"
  },
  "language_info": {
   "codemirror_mode": {
    "name": "ipython",
    "version": 3
   },
   "file_extension": ".py",
   "mimetype": "text/x-python",
   "name": "python",
   "nbconvert_exporter": "python",
   "pygments_lexer": "ipython3",
   "version": "3.13.3"
  }
 },
 "nbformat": 4,
 "nbformat_minor": 5
}

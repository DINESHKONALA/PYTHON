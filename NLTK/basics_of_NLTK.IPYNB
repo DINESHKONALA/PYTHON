{
 "cells": [
  {
   "cell_type": "markdown",
   "id": "146d719e",
   "metadata": {},
   "source": [
    "# Basics of NLTK"
   ]
  },
  {
   "cell_type": "code",
   "execution_count": 1,
   "id": "eb65728f",
   "metadata": {},
   "outputs": [
    {
     "name": "stderr",
     "output_type": "stream",
     "text": [
      "[nltk_data] Downloading package vader_lexicon to\n",
      "[nltk_data]     C:\\Users\\dines\\AppData\\Roaming\\nltk_data...\n",
      "[nltk_data]   Package vader_lexicon is already up-to-date!\n",
      "[nltk_data] Error loading subjective: Package 'subjective' not found\n",
      "[nltk_data]     in index\n",
      "[nltk_data] Downloading package movie_reviews to\n",
      "[nltk_data]     C:\\Users\\dines\\AppData\\Roaming\\nltk_data...\n",
      "[nltk_data]   Package movie_reviews is already up-to-date!\n"
     ]
    }
   ],
   "source": [
    "import nltk\n",
    "from nltk.sentiment import SentimentIntensityAnalyzer\n",
    "nltk.download('vader_lexicon')\n",
    "nltk.download('subjective')\n",
    "nltk.download('movie_reviews')\n",
    "\n",
    "sia = SentimentIntensityAnalyzer()"
   ]
  },
  {
   "cell_type": "code",
   "execution_count": 2,
   "id": "b6df7596",
   "metadata": {},
   "outputs": [
    {
     "data": {
      "text/plain": [
       "{'neg': 0.0, 'neu': 1.0, 'pos': 0.0, 'compound': 0.0}"
      ]
     },
     "execution_count": 2,
     "metadata": {},
     "output_type": "execute_result"
    }
   ],
   "source": [
    "sia.polarity_scores('i am a human')"
   ]
  },
  {
   "cell_type": "code",
   "execution_count": 3,
   "id": "5f4d73b5",
   "metadata": {},
   "outputs": [
    {
     "data": {
      "text/plain": [
       "{'neg': 1.0, 'neu': 0.0, 'pos': 0.0, 'compound': -0.6571}"
      ]
     },
     "execution_count": 3,
     "metadata": {},
     "output_type": "execute_result"
    }
   ],
   "source": [
    "sia.polarity_scores('horrible!!!')"
   ]
  },
  {
   "cell_type": "code",
   "execution_count": 4,
   "id": "f409f78d",
   "metadata": {},
   "outputs": [
    {
     "data": {
      "text/plain": [
       "{'neg': 0.0, 'neu': 0.79, 'pos': 0.21, 'compound': 0.3384}"
      ]
     },
     "execution_count": 4,
     "metadata": {},
     "output_type": "execute_result"
    }
   ],
   "source": [
    "sia.polarity_scores('This company has done incredibly well over the past year')"
   ]
  },
  {
   "cell_type": "code",
   "execution_count": 5,
   "id": "ec1309f3",
   "metadata": {},
   "outputs": [
    {
     "data": {
      "text/plain": [
       "{'neg': 0.0, 'neu': 1.0, 'pos': 0.0, 'compound': 0.0}"
      ]
     },
     "execution_count": 5,
     "metadata": {},
     "output_type": "execute_result"
    }
   ],
   "source": [
    "sia.polarity_scores('this movie is incredible!')"
   ]
  },
  {
   "cell_type": "markdown",
   "id": "63a575f4",
   "metadata": {},
   "source": [
    "#### The economy has never been so good!\n",
    "#### The economy has never been good!\n",
    "\n",
    "lets see the difference"
   ]
  },
  {
   "cell_type": "code",
   "execution_count": 6,
   "id": "4cfb8fed",
   "metadata": {},
   "outputs": [
    {
     "data": {
      "text/plain": [
       "{'neg': 0.0, 'neu': 0.598, 'pos': 0.402, 'compound': 0.6166}"
      ]
     },
     "execution_count": 6,
     "metadata": {},
     "output_type": "execute_result"
    }
   ],
   "source": [
    "sia.polarity_scores('the economy has never been so good!')"
   ]
  },
  {
   "cell_type": "code",
   "execution_count": 7,
   "id": "9c78ea71",
   "metadata": {},
   "outputs": [
    {
     "data": {
      "text/plain": [
       "{'neg': 0.35, 'neu': 0.65, 'pos': 0.0, 'compound': -0.4015}"
      ]
     },
     "execution_count": 7,
     "metadata": {},
     "output_type": "execute_result"
    }
   ],
   "source": [
    "sia.polarity_scores('the economy has never been good!')"
   ]
  }
 ],
 "metadata": {
  "kernelspec": {
   "display_name": "Python 3",
   "language": "python",
   "name": "python3"
  },
  "language_info": {
   "codemirror_mode": {
    "name": "ipython",
    "version": 3
   },
   "file_extension": ".py",
   "mimetype": "text/x-python",
   "name": "python",
   "nbconvert_exporter": "python",
   "pygments_lexer": "ipython3",
   "version": "3.13.5"
  }
 },
 "nbformat": 4,
 "nbformat_minor": 5
}
